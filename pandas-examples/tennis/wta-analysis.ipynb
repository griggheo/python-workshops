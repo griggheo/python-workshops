{
 "cells": [
  {
   "cell_type": "markdown",
   "metadata": {},
   "source": [
    "### Load data from CSV into Pandas DataFrame"
   ]
  },
  {
   "cell_type": "code",
   "execution_count": 7,
   "metadata": {},
   "outputs": [],
   "source": [
    "import pandas as pd\n",
    "import numpy as np\n",
    "import seaborn as sns\n",
    "import matplotlib.pyplot as plt\n",
    "import sys\n",
    "import os\n",
    "\n",
    "#os.chdir('/Users/ggheo/code/mycode/python-workshops/pandas-examples/tennis')\n",
    "\n",
    "matches = pd.read_csv(\"wta_matches_2017.csv\")\n",
    "pd.set_option(\"display.max_rows\", 5)"
   ]
  },
  {
   "cell_type": "markdown",
   "metadata": {},
   "source": [
    "### Analyze matches played by Simona Halep"
   ]
  },
  {
   "cell_type": "code",
   "execution_count": 8,
   "metadata": {},
   "outputs": [
    {
     "data": {
      "text/html": [
       "<div>\n",
       "<style scoped>\n",
       "    .dataframe tbody tr th:only-of-type {\n",
       "        vertical-align: middle;\n",
       "    }\n",
       "\n",
       "    .dataframe tbody tr th {\n",
       "        vertical-align: top;\n",
       "    }\n",
       "\n",
       "    .dataframe thead th {\n",
       "        text-align: right;\n",
       "    }\n",
       "</style>\n",
       "<table border=\"1\" class=\"dataframe\">\n",
       "  <thead>\n",
       "    <tr style=\"text-align: right;\">\n",
       "      <th></th>\n",
       "      <th>tourney_id</th>\n",
       "      <th>tourney_name</th>\n",
       "      <th>surface</th>\n",
       "      <th>draw_size</th>\n",
       "      <th>tourney_level</th>\n",
       "      <th>tourney_date</th>\n",
       "      <th>match_num</th>\n",
       "      <th>winner_id</th>\n",
       "      <th>winner_seed</th>\n",
       "      <th>winner_entry</th>\n",
       "      <th>...</th>\n",
       "      <th>w_bpFaced</th>\n",
       "      <th>l_ace</th>\n",
       "      <th>l_df</th>\n",
       "      <th>l_svpt</th>\n",
       "      <th>l_1stIn</th>\n",
       "      <th>l_1stWon</th>\n",
       "      <th>l_2ndWon</th>\n",
       "      <th>l_SvGms</th>\n",
       "      <th>l_bpSaved</th>\n",
       "      <th>l_bpFaced</th>\n",
       "    </tr>\n",
       "  </thead>\n",
       "  <tbody>\n",
       "    <tr>\n",
       "      <td>74</td>\n",
       "      <td>2017-1063</td>\n",
       "      <td>Shenzhen</td>\n",
       "      <td>Hard</td>\n",
       "      <td>32</td>\n",
       "      <td>I</td>\n",
       "      <td>20170102</td>\n",
       "      <td>286</td>\n",
       "      <td>211701</td>\n",
       "      <td>NaN</td>\n",
       "      <td>NaN</td>\n",
       "      <td>...</td>\n",
       "      <td>16.0</td>\n",
       "      <td>2.0</td>\n",
       "      <td>2.0</td>\n",
       "      <td>88.0</td>\n",
       "      <td>50.0</td>\n",
       "      <td>29.0</td>\n",
       "      <td>13.0</td>\n",
       "      <td>15.0</td>\n",
       "      <td>3.0</td>\n",
       "      <td>11.0</td>\n",
       "    </tr>\n",
       "    <tr>\n",
       "      <td>90</td>\n",
       "      <td>2017-1063</td>\n",
       "      <td>Shenzhen</td>\n",
       "      <td>Hard</td>\n",
       "      <td>32</td>\n",
       "      <td>I</td>\n",
       "      <td>20170102</td>\n",
       "      <td>270</td>\n",
       "      <td>201594</td>\n",
       "      <td>2.0</td>\n",
       "      <td>NaN</td>\n",
       "      <td>...</td>\n",
       "      <td>3.0</td>\n",
       "      <td>3.0</td>\n",
       "      <td>2.0</td>\n",
       "      <td>70.0</td>\n",
       "      <td>45.0</td>\n",
       "      <td>30.0</td>\n",
       "      <td>9.0</td>\n",
       "      <td>12.0</td>\n",
       "      <td>1.0</td>\n",
       "      <td>5.0</td>\n",
       "    </tr>\n",
       "    <tr>\n",
       "      <td>167</td>\n",
       "      <td>2017-580</td>\n",
       "      <td>Australian Open</td>\n",
       "      <td>Hard</td>\n",
       "      <td>128</td>\n",
       "      <td>G</td>\n",
       "      <td>20170116</td>\n",
       "      <td>116</td>\n",
       "      <td>201603</td>\n",
       "      <td>NaN</td>\n",
       "      <td>NaN</td>\n",
       "      <td>...</td>\n",
       "      <td>1.0</td>\n",
       "      <td>2.0</td>\n",
       "      <td>1.0</td>\n",
       "      <td>71.0</td>\n",
       "      <td>50.0</td>\n",
       "      <td>29.0</td>\n",
       "      <td>8.0</td>\n",
       "      <td>8.0</td>\n",
       "      <td>7.0</td>\n",
       "      <td>11.0</td>\n",
       "    </tr>\n",
       "    <tr>\n",
       "      <td>281</td>\n",
       "      <td>2017-1086</td>\n",
       "      <td>St. Petersburg</td>\n",
       "      <td>Hard</td>\n",
       "      <td>32</td>\n",
       "      <td>I</td>\n",
       "      <td>20170130</td>\n",
       "      <td>297</td>\n",
       "      <td>212001</td>\n",
       "      <td>NaN</td>\n",
       "      <td>WC</td>\n",
       "      <td>...</td>\n",
       "      <td>0.0</td>\n",
       "      <td>0.0</td>\n",
       "      <td>0.0</td>\n",
       "      <td>0.0</td>\n",
       "      <td>0.0</td>\n",
       "      <td>0.0</td>\n",
       "      <td>0.0</td>\n",
       "      <td>0.0</td>\n",
       "      <td>0.0</td>\n",
       "      <td>0.0</td>\n",
       "    </tr>\n",
       "    <tr>\n",
       "      <td>285</td>\n",
       "      <td>2017-1086</td>\n",
       "      <td>St. Petersburg</td>\n",
       "      <td>Hard</td>\n",
       "      <td>32</td>\n",
       "      <td>I</td>\n",
       "      <td>20170130</td>\n",
       "      <td>293</td>\n",
       "      <td>201594</td>\n",
       "      <td>1.0</td>\n",
       "      <td>NaN</td>\n",
       "      <td>...</td>\n",
       "      <td>5.0</td>\n",
       "      <td>3.0</td>\n",
       "      <td>5.0</td>\n",
       "      <td>87.0</td>\n",
       "      <td>55.0</td>\n",
       "      <td>42.0</td>\n",
       "      <td>5.0</td>\n",
       "      <td>11.0</td>\n",
       "      <td>8.0</td>\n",
       "      <td>12.0</td>\n",
       "    </tr>\n",
       "    <tr>\n",
       "      <td>...</td>\n",
       "      <td>...</td>\n",
       "      <td>...</td>\n",
       "      <td>...</td>\n",
       "      <td>...</td>\n",
       "      <td>...</td>\n",
       "      <td>...</td>\n",
       "      <td>...</td>\n",
       "      <td>...</td>\n",
       "      <td>...</td>\n",
       "      <td>...</td>\n",
       "      <td>...</td>\n",
       "      <td>...</td>\n",
       "      <td>...</td>\n",
       "      <td>...</td>\n",
       "      <td>...</td>\n",
       "      <td>...</td>\n",
       "      <td>...</td>\n",
       "      <td>...</td>\n",
       "      <td>...</td>\n",
       "      <td>...</td>\n",
       "      <td>...</td>\n",
       "    </tr>\n",
       "    <tr>\n",
       "      <td>2382</td>\n",
       "      <td>2017-M015</td>\n",
       "      <td>Beijing</td>\n",
       "      <td>Hard</td>\n",
       "      <td>64</td>\n",
       "      <td>P</td>\n",
       "      <td>20171002</td>\n",
       "      <td>270</td>\n",
       "      <td>201594</td>\n",
       "      <td>2.0</td>\n",
       "      <td>NaN</td>\n",
       "      <td>...</td>\n",
       "      <td>1.0</td>\n",
       "      <td>5.0</td>\n",
       "      <td>2.0</td>\n",
       "      <td>45.0</td>\n",
       "      <td>21.0</td>\n",
       "      <td>13.0</td>\n",
       "      <td>8.0</td>\n",
       "      <td>5.0</td>\n",
       "      <td>4.0</td>\n",
       "      <td>7.0</td>\n",
       "    </tr>\n",
       "    <tr>\n",
       "      <td>2411</td>\n",
       "      <td>2017-M015</td>\n",
       "      <td>Beijing</td>\n",
       "      <td>Hard</td>\n",
       "      <td>64</td>\n",
       "      <td>P</td>\n",
       "      <td>20171002</td>\n",
       "      <td>238</td>\n",
       "      <td>201594</td>\n",
       "      <td>2.0</td>\n",
       "      <td>NaN</td>\n",
       "      <td>...</td>\n",
       "      <td>10.0</td>\n",
       "      <td>1.0</td>\n",
       "      <td>8.0</td>\n",
       "      <td>80.0</td>\n",
       "      <td>46.0</td>\n",
       "      <td>31.0</td>\n",
       "      <td>11.0</td>\n",
       "      <td>13.0</td>\n",
       "      <td>4.0</td>\n",
       "      <td>9.0</td>\n",
       "    </tr>\n",
       "    <tr>\n",
       "      <td>2566</td>\n",
       "      <td>2017-0808</td>\n",
       "      <td>Singapore</td>\n",
       "      <td>Hard</td>\n",
       "      <td>8</td>\n",
       "      <td>I</td>\n",
       "      <td>20171023</td>\n",
       "      <td>297</td>\n",
       "      <td>202494</td>\n",
       "      <td>4.0</td>\n",
       "      <td>NaN</td>\n",
       "      <td>...</td>\n",
       "      <td>1.0</td>\n",
       "      <td>2.0</td>\n",
       "      <td>1.0</td>\n",
       "      <td>50.0</td>\n",
       "      <td>36.0</td>\n",
       "      <td>25.0</td>\n",
       "      <td>6.0</td>\n",
       "      <td>9.0</td>\n",
       "      <td>2.0</td>\n",
       "      <td>5.0</td>\n",
       "    </tr>\n",
       "    <tr>\n",
       "      <td>2567</td>\n",
       "      <td>2017-0808</td>\n",
       "      <td>Singapore</td>\n",
       "      <td>Hard</td>\n",
       "      <td>8</td>\n",
       "      <td>I</td>\n",
       "      <td>20171023</td>\n",
       "      <td>296</td>\n",
       "      <td>201496</td>\n",
       "      <td>6.0</td>\n",
       "      <td>NaN</td>\n",
       "      <td>...</td>\n",
       "      <td>1.0</td>\n",
       "      <td>1.0</td>\n",
       "      <td>0.0</td>\n",
       "      <td>41.0</td>\n",
       "      <td>26.0</td>\n",
       "      <td>14.0</td>\n",
       "      <td>4.0</td>\n",
       "      <td>7.0</td>\n",
       "      <td>3.0</td>\n",
       "      <td>8.0</td>\n",
       "    </tr>\n",
       "    <tr>\n",
       "      <td>2568</td>\n",
       "      <td>2017-0808</td>\n",
       "      <td>Singapore</td>\n",
       "      <td>Hard</td>\n",
       "      <td>8</td>\n",
       "      <td>I</td>\n",
       "      <td>20171023</td>\n",
       "      <td>295</td>\n",
       "      <td>201594</td>\n",
       "      <td>1.0</td>\n",
       "      <td>NaN</td>\n",
       "      <td>...</td>\n",
       "      <td>6.0</td>\n",
       "      <td>0.0</td>\n",
       "      <td>3.0</td>\n",
       "      <td>54.0</td>\n",
       "      <td>33.0</td>\n",
       "      <td>19.0</td>\n",
       "      <td>9.0</td>\n",
       "      <td>9.0</td>\n",
       "      <td>1.0</td>\n",
       "      <td>5.0</td>\n",
       "    </tr>\n",
       "  </tbody>\n",
       "</table>\n",
       "<p>65 rows × 49 columns</p>\n",
       "</div>"
      ],
      "text/plain": [
       "     tourney_id     tourney_name surface  draw_size tourney_level  \\\n",
       "74    2017-1063         Shenzhen    Hard         32             I   \n",
       "90    2017-1063         Shenzhen    Hard         32             I   \n",
       "167    2017-580  Australian Open    Hard        128             G   \n",
       "281   2017-1086   St. Petersburg    Hard         32             I   \n",
       "285   2017-1086   St. Petersburg    Hard         32             I   \n",
       "...         ...              ...     ...        ...           ...   \n",
       "2382  2017-M015         Beijing     Hard         64             P   \n",
       "2411  2017-M015         Beijing     Hard         64             P   \n",
       "2566  2017-0808        Singapore    Hard          8             I   \n",
       "2567  2017-0808        Singapore    Hard          8             I   \n",
       "2568  2017-0808        Singapore    Hard          8             I   \n",
       "\n",
       "      tourney_date  match_num  winner_id  winner_seed winner_entry  ...  \\\n",
       "74        20170102        286     211701          NaN          NaN  ...   \n",
       "90        20170102        270     201594          2.0          NaN  ...   \n",
       "167       20170116        116     201603          NaN          NaN  ...   \n",
       "281       20170130        297     212001          NaN           WC  ...   \n",
       "285       20170130        293     201594          1.0          NaN  ...   \n",
       "...            ...        ...        ...          ...          ...  ...   \n",
       "2382      20171002        270     201594          2.0          NaN  ...   \n",
       "2411      20171002        238     201594          2.0          NaN  ...   \n",
       "2566      20171023        297     202494          4.0          NaN  ...   \n",
       "2567      20171023        296     201496          6.0          NaN  ...   \n",
       "2568      20171023        295     201594          1.0          NaN  ...   \n",
       "\n",
       "     w_bpFaced l_ace  l_df l_svpt  l_1stIn  l_1stWon  l_2ndWon  l_SvGms  \\\n",
       "74        16.0   2.0   2.0   88.0     50.0      29.0      13.0     15.0   \n",
       "90         3.0   3.0   2.0   70.0     45.0      30.0       9.0     12.0   \n",
       "167        1.0   2.0   1.0   71.0     50.0      29.0       8.0      8.0   \n",
       "281        0.0   0.0   0.0    0.0      0.0       0.0       0.0      0.0   \n",
       "285        5.0   3.0   5.0   87.0     55.0      42.0       5.0     11.0   \n",
       "...        ...   ...   ...    ...      ...       ...       ...      ...   \n",
       "2382       1.0   5.0   2.0   45.0     21.0      13.0       8.0      5.0   \n",
       "2411      10.0   1.0   8.0   80.0     46.0      31.0      11.0     13.0   \n",
       "2566       1.0   2.0   1.0   50.0     36.0      25.0       6.0      9.0   \n",
       "2567       1.0   1.0   0.0   41.0     26.0      14.0       4.0      7.0   \n",
       "2568       6.0   0.0   3.0   54.0     33.0      19.0       9.0      9.0   \n",
       "\n",
       "      l_bpSaved l_bpFaced  \n",
       "74          3.0      11.0  \n",
       "90          1.0       5.0  \n",
       "167         7.0      11.0  \n",
       "281         0.0       0.0  \n",
       "285         8.0      12.0  \n",
       "...         ...       ...  \n",
       "2382        4.0       7.0  \n",
       "2411        4.0       9.0  \n",
       "2566        2.0       5.0  \n",
       "2567        3.0       8.0  \n",
       "2568        1.0       5.0  \n",
       "\n",
       "[65 rows x 49 columns]"
      ]
     },
     "execution_count": 8,
     "metadata": {},
     "output_type": "execute_result"
    }
   ],
   "source": [
    "pd.set_option(\"display.max_rows\", 10)\n",
    "matches_simona = matches.loc[(matches.winner_name=='Simona Halep') | (matches.loser_name=='Simona Halep')]\n",
    "matches_simona.sort_values(by=['tourney_date','tourney_name'])"
   ]
  },
  {
   "cell_type": "markdown",
   "metadata": {},
   "source": [
    "### Tournaments with most winning aces"
   ]
  },
  {
   "cell_type": "code",
   "execution_count": 9,
   "metadata": {},
   "outputs": [
    {
     "name": "stdout",
     "output_type": "stream",
     "text": [
      "                            w_ace\n",
      "tourney_name                     \n",
      "Beijing                      17.0\n",
      "Wimbledon                    14.0\n",
      "Eastbourne                   11.0\n",
      "Madrid                       11.0\n",
      "Miami                         9.0\n",
      "Roland Garros                 8.0\n",
      "Cincinnati                    7.0\n",
      "Us Open                       7.0\n",
      "Singapore                     7.0\n",
      "Rome                          6.0\n",
      "Indian Wells                  6.0\n",
      "Fed Cup WG2 R1: ROU vs GBR    5.0\n",
      "Shenzhen                      4.0\n",
      "Toronto                       4.0\n",
      "Washington                    4.0\n",
      "St. Petersburg                3.0\n",
      "Stuttgart                     3.0\n",
      "Australian Open               2.0\n",
      "Wuhan                         0.0\n"
     ]
    },
    {
     "data": {
      "text/plain": [
       "<matplotlib.axes._subplots.AxesSubplot at 0x210b1e4fb88>"
      ]
     },
     "execution_count": 9,
     "metadata": {},
     "output_type": "execute_result"
    },
    {
     "data": {
      "image/png": "[encoded data removed]",
      "text/plain": [
       "<Figure size 1440x576 with 1 Axes>"
      ]
     },
     "metadata": {
      "needs_background": "light"
     },
     "output_type": "display_data"
    }
   ],
   "source": [
    "pd.set_option(\"display.max_rows\", 20)\n",
    "aces = matches_simona.groupby(['tourney_name']).agg({'w_ace':'sum'}).fillna(0).sort_values(['w_ace'], \n",
    "    ascending=False)\n",
    "print(aces)\n",
    "aces = aces.reset_index()\n",
    "aces.columns = ['Tournament Name', 'Aces Won']\n",
    "aces = aces.sort_values('Aces Won',ascending=True)\n",
    "aces.plot('Tournament Name','Aces Won', \n",
    "    kind='barh', \n",
    "    title='Aces Won by Simona Halep', \n",
    "    legend=False,\n",
    "    figsize=(20,8))"
   ]
  },
  {
   "cell_type": "markdown",
   "metadata": {},
   "source": [
    "### Tournaments with most matches won"
   ]
  },
  {
   "cell_type": "code",
   "execution_count": 10,
   "metadata": {},
   "outputs": [],
   "source": [
    "pd.set_option(\"display.max_rows\", 20)\n",
    "matches_won_simona = matches.loc[(matches.winner_name=='Simona Halep')]"
   ]
  },
  {
   "cell_type": "markdown",
   "metadata": {},
   "source": [
    "#### Sorted by wins"
   ]
  },
  {
   "cell_type": "code",
   "execution_count": 11,
   "metadata": {},
   "outputs": [
    {
     "name": "stdout",
     "output_type": "stream",
     "text": [
      "                            round\n",
      "tourney_name                     \n",
      "Madrid                          6\n",
      "Roland Garros                   6\n",
      "Beijing                         5\n",
      "Cincinnati                      4\n",
      "Rome                            4\n",
      "Wimbledon                       4\n",
      "Miami                           3\n",
      "Toronto                         3\n",
      "Eastbourne                      2\n",
      "Fed Cup WG2 R1: ROU vs GBR      2\n",
      "Stuttgart                       2\n",
      "Washington                      2\n",
      "Indian Wells                    1\n",
      "Shenzhen                        1\n",
      "Singapore                       1\n",
      "St. Petersburg                  1\n"
     ]
    },
    {
     "data": {
      "text/plain": [
       "<matplotlib.axes._subplots.AxesSubplot at 0x210b21dfd08>"
      ]
     },
     "execution_count": 11,
     "metadata": {},
     "output_type": "execute_result"
    },
    {
     "data": {
      "image/png": "[encoded data removed]",
      "text/plain": [
       "<Figure size 1440x576 with 1 Axes>"
      ]
     },
     "metadata": {
      "needs_background": "light"
     },
     "output_type": "display_data"
    }
   ],
   "source": [
    "mw = matches_won_simona.groupby(['tourney_name']).agg({'round':'count'}).fillna(0).sort_values(['round'], \n",
    "    ascending=False)\n",
    "print(mw)\n",
    "mw = mw.reset_index()\n",
    "mw.columns = ['Tournament Name', 'Rounds Won']\n",
    "mw = mw.sort_values('Rounds Won',ascending=True)\n",
    "mw.plot('Tournament Name','Rounds Won', \n",
    "    kind='barh', \n",
    "    title='Matches Won by Simona Halep', \n",
    "    legend=False,\n",
    "    figsize=(20,8))"
   ]
  },
  {
   "cell_type": "markdown",
   "metadata": {},
   "source": [
    "#### Rounds won sorted by tournament date"
   ]
  },
  {
   "cell_type": "code",
   "execution_count": 12,
   "metadata": {},
   "outputs": [
    {
     "name": "stdout",
     "output_type": "stream",
     "text": [
      "                                         round\n",
      "tourney_name               tourney_date       \n",
      "Shenzhen                   20170102          1\n",
      "St. Petersburg             20170130          1\n",
      "Indian Wells               20170306          1\n",
      "Miami                      20170320          3\n",
      "Fed Cup WG2 R1: ROU vs GBR 20170422          2\n",
      "Stuttgart                  20170424          2\n",
      "Madrid                     20170508          6\n",
      "Rome                       20170515          4\n",
      "Roland Garros              20170529          6\n",
      "Eastbourne                 20170626          2\n",
      "Wimbledon                  20170703          4\n",
      "Washington                 20170731          2\n",
      "Toronto                    20170807          3\n",
      "Cincinnati                 20170814          4\n",
      "Beijing                    20171002          5\n",
      "Singapore                  20171023          1\n"
     ]
    },
    {
     "data": {
      "text/plain": [
       "<matplotlib.axes._subplots.AxesSubplot at 0x210b1edba88>"
      ]
     },
     "execution_count": 12,
     "metadata": {},
     "output_type": "execute_result"
    },
    {
     "data": {
      "image/png": "[encoded data removed]",
      "text/plain": [
       "<Figure size 1440x576 with 1 Axes>"
      ]
     },
     "metadata": {
      "needs_background": "light"
     },
     "output_type": "display_data"
    }
   ],
   "source": [
    "mw = matches_won_simona.groupby(['tourney_name', 'tourney_date']).agg({'round':'count'}).fillna(0).sort_values(['tourney_date'])\n",
    "print(mw)\n",
    "mw = mw.reset_index()\n",
    "mw.columns = ['Tournament Name', 'Tournament Date', 'Rounds Won']\n",
    "mw = mw.sort_values('Tournament Date',ascending=True)\n",
    "mw.plot('Tournament Name','Rounds Won', \n",
    "    kind='bar', \n",
    "    title='Rounds Won by Simona Halep', \n",
    "    legend=False,\n",
    "    figsize=(20,8))"
   ]
  },
  {
   "cell_type": "markdown",
   "metadata": {},
   "source": [
    "### Titles won"
   ]
  },
  {
   "cell_type": "markdown",
   "metadata": {},
   "source": [
    "#### Number of rounds per tournament (for all players)"
   ]
  },
  {
   "cell_type": "code",
   "execution_count": 13,
   "metadata": {},
   "outputs": [
    {
     "name": "stdout",
     "output_type": "stream",
     "text": [
      "                                     round\n",
      "tourney_name     tourney_date round       \n",
      "'S-Hertogenbosch 20170612     F          1\n",
      "                              QF         1\n",
      "                              R16        1\n",
      "                              R32        1\n",
      "                              SF         1\n",
      "...                                    ...\n",
      "Zhengzhou        20170417     QF         1\n",
      "                              SF         1\n",
      "Zhuhai           20171031     RR         1\n",
      "                              F          1\n",
      "                              SF         1\n",
      "\n",
      "[371 rows x 1 columns]\n",
      "                                       total_rounds\n",
      "tourney_name             tourney_date              \n",
      "Auckland                 20170102                 5\n",
      "Shenzhen                 20170102                 5\n",
      "Brisbane                 20170102                 5\n",
      "Hobart                   20170109                 5\n",
      "Sydney                   20170109                 5\n",
      "...                                             ...\n",
      "Hua Hin                  20171106                 5\n",
      "Fed Cup WG F: USA vs BLR 20171111                 1\n",
      "Taipei                   20171113                 5\n",
      "Mumbai                   20171120                 5\n",
      "Honolulu                 20171120                 5\n",
      "\n",
      "[86 rows x 1 columns]\n"
     ]
    }
   ],
   "source": [
    "pd.set_option(\"display.max_rows\", 40)\n",
    "rounds_per_tourney = matches.groupby(['tourney_name', 'tourney_date', 'round']).agg({'round':'nunique'}).fillna(0).sort_values(['tourney_name'],\n",
    "    ascending=True)\n",
    "print(rounds_per_tourney)\n",
    "\n",
    "rounds_per_tourney = rounds_per_tourney.groupby(['tourney_name', 'tourney_date']).agg({'round':'sum'}).sort_values(['tourney_date'],\n",
    "    ascending=True)\n",
    "rounds_per_tourney.rename(columns={'round':'total_rounds'}, inplace=True)\n",
    "print(rounds_per_tourney)"
   ]
  },
  {
   "cell_type": "markdown",
   "metadata": {},
   "source": [
    "#### Number of winning rounds for Simona Halep"
   ]
  },
  {
   "cell_type": "code",
   "execution_count": 14,
   "metadata": {},
   "outputs": [
    {
     "name": "stdout",
     "output_type": "stream",
     "text": [
      "                                 round\n",
      "tourney_name tourney_date round       \n",
      "Beijing      20171002     QF         1\n",
      "                          R16        1\n",
      "                          R32        1\n",
      "                          R64        1\n",
      "                          SF         1\n",
      "...                                ...\n",
      "Washington   20170731     R32        1\n",
      "Wimbledon    20170703     R128       1\n",
      "                          R16        1\n",
      "                          R32        1\n",
      "                          R64        1\n",
      "\n",
      "[46 rows x 1 columns]\n",
      "                                         total_rounds_simona\n",
      "tourney_name               tourney_date                     \n",
      "Shenzhen                   20170102                        1\n",
      "St. Petersburg             20170130                        1\n",
      "Indian Wells               20170306                        1\n",
      "Miami                      20170320                        3\n",
      "Fed Cup WG2 R1: ROU vs GBR 20170422                        1\n",
      "Stuttgart                  20170424                        2\n",
      "Madrid                     20170508                        6\n",
      "Rome                       20170515                        4\n",
      "Roland Garros              20170529                        6\n",
      "Eastbourne                 20170626                        2\n",
      "Wimbledon                  20170703                        4\n",
      "Washington                 20170731                        2\n",
      "Toronto                    20170807                        3\n",
      "Cincinnati                 20170814                        4\n",
      "Beijing                    20171002                        5\n",
      "Singapore                  20171023                        1\n"
     ]
    }
   ],
   "source": [
    "rounds_per_tourney_simona = matches_won_simona.groupby(['tourney_name', 'tourney_date', 'round']).agg({'round':'nunique'}).fillna(0).sort_values(['tourney_name'],\n",
    "    ascending=True)\n",
    "print(rounds_per_tourney_simona)\n",
    "\n",
    "rounds_per_tourney_simona = rounds_per_tourney_simona.groupby(['tourney_name', 'tourney_date']).agg({'round':'sum'}).sort_values(['tourney_date'],\n",
    "    ascending=True)\n",
    "rounds_per_tourney_simona.rename(columns={'round':'total_rounds_simona'}, inplace=True)\n",
    "print(rounds_per_tourney_simona)"
   ]
  },
  {
   "cell_type": "markdown",
   "metadata": {},
   "source": [
    "#### Merge rounds_per_tourney and rounds_per_tourney_simona"
   ]
  },
  {
   "cell_type": "code",
   "execution_count": 15,
   "metadata": {},
   "outputs": [
    {
     "name": "stdout",
     "output_type": "stream",
     "text": [
      "                                         total_rounds_simona  total_rounds\n",
      "tourney_name               tourney_date                                   \n",
      "Shenzhen                   20170102                        1             5\n",
      "St. Petersburg             20170130                        1             5\n",
      "Indian Wells               20170306                        1             7\n",
      "Miami                      20170320                        3             7\n",
      "Fed Cup WG2 R1: ROU vs GBR 20170422                        1             1\n",
      "Stuttgart                  20170424                        2             5\n",
      "Madrid                     20170508                        6             6\n",
      "Rome                       20170515                        4             6\n",
      "Roland Garros              20170529                        6             7\n",
      "Eastbourne                 20170626                        2             6\n",
      "Wimbledon                  20170703                        4             7\n",
      "Washington                 20170731                        2             5\n",
      "Toronto                    20170807                        3             6\n",
      "Cincinnati                 20170814                        4             6\n",
      "Beijing                    20171002                        5             6\n",
      "Singapore                  20171023                        1             3\n"
     ]
    }
   ],
   "source": [
    "rounds_per_tourney_merged = rounds_per_tourney_simona.merge(rounds_per_tourney, on=['tourney_name', 'tourney_date'])\n",
    "print(rounds_per_tourney_merged)"
   ]
  },
  {
   "cell_type": "code",
   "execution_count": 16,
   "metadata": {},
   "outputs": [
    {
     "data": {
      "text/plain": [
       "<matplotlib.axes._subplots.AxesSubplot at 0x210b2840408>"
      ]
     },
     "execution_count": 16,
     "metadata": {},
     "output_type": "execute_result"
    },
    {
     "data": {
      "image/png": "[encoded data removed]",
      "text/plain": [
       "<Figure size 1440x576 with 1 Axes>"
      ]
     },
     "metadata": {
      "needs_background": "light"
     },
     "output_type": "display_data"
    }
   ],
   "source": [
    "rounds_per_tourney_merged = rounds_per_tourney_merged.reset_index()\n",
    "rounds_per_tourney_merged.rename(\n",
    "    columns={\n",
    "        'tourney_name':'Tournament Name', \n",
    "        'tourney_date': 'Tournament Date',\n",
    "        'total_rounds_simona':  'Rounds Won By Simona Halep',\n",
    "        'total_rounds': 'Total Rounds'}, \n",
    "    inplace=True)\n",
    "rounds_per_tourney_merged = rounds_per_tourney_merged.sort_values('Tournament Date',ascending=True)\n",
    "#print(rounds_per_tourney_merged)\n",
    "rounds_per_tourney_merged.plot(x='Tournament Name', y=['Rounds Won By Simona Halep', 'Total Rounds'],\n",
    "    kind='bar', \n",
    "    legend=True,\n",
    "    figsize=(20,8))"
   ]
  },
  {
   "cell_type": "code",
   "execution_count": null,
   "metadata": {},
   "outputs": [],
   "source": []
  },
  {
   "cell_type": "code",
   "execution_count": null,
   "metadata": {},
   "outputs": [],
   "source": []
  }
 ],
 "metadata": {
  "kernelspec": {
   "display_name": "Python 3",
   "language": "python",
   "name": "python3"
  },
  "language_info": {
   "codemirror_mode": {
    "name": "ipython",
    "version": 3
   },
   "file_extension": ".py",
   "mimetype": "text/x-python",
   "name": "python",
   "nbconvert_exporter": "python",
   "pygments_lexer": "ipython3",
   "version": "3.7.4"
  }
 },
 "nbformat": 4,
 "nbformat_minor": 4
}
